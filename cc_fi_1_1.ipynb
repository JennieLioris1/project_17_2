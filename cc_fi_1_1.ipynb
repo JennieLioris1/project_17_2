{
 "cells": [
  {
   "cell_type": "markdown",
   "metadata": {},
   "source": [
    "### Objective\n",
    "### This file applies provides the  performance evaluation of each model.\n",
    "### It employes the datframe  with type 1 vectorization (all features vectorized)."
   ]
  },
  {
   "cell_type": "code",
   "execution_count": 1,
   "metadata": {},
   "outputs": [],
   "source": [
    "#pip install import-ipynb"
   ]
  },
  {
   "cell_type": "code",
   "execution_count": 2,
   "metadata": {},
   "outputs": [
    {
     "name": "stdout",
     "output_type": "stream",
     "text": [
      "importing Jupyter notebook from cc_fi_variable_initializations.ipynb\n",
      "importing Jupyter notebook from cc_fi_fcts.ipynb\n"
     ]
    }
   ],
   "source": [
    "import pandas as pd\n",
    "import numpy as np\n",
    "\n",
    "import import_ipynb\n",
    "\n",
    "from cc_fi_variable_initializations import *\n",
    "import cc_fi_fcts\n",
    "\n",
    "import pickle\n",
    "\n",
    "import matplotlib.pyplot as plt\n",
    "import seaborn as sns\n",
    "\n",
    "import category_encoders as ce\n",
    "\n",
    "from sklearn.preprocessing import LabelEncoder\n",
    "from sklearn.model_selection import train_test_split, GridSearchCV\n",
    "from sklearn.dummy import DummyClassifier\n",
    "from sklearn.linear_model import LogisticRegression\n",
    "from sklearn.metrics import accuracy_score\n",
    "from sklearn.pipeline import Pipeline\n",
    "from sklearn.preprocessing import StandardScaler\n",
    "from sklearn.neighbors import KNeighborsClassifier\n",
    "from sklearn.tree import DecisionTreeClassifier\n",
    "from sklearn.svm import SVC\n",
    "import time\n",
    "\n",
    "from sklearn.ensemble import RandomForestClassifier\n",
    "\n",
    "from sklearn.feature_selection import SelectFromModel"
   ]
  },
  {
   "cell_type": "markdown",
   "metadata": {},
   "source": [
    " ### Problem   "
   ]
  },
  {
   "cell_type": "markdown",
   "metadata": {},
   "source": [
    "### Data  related with bank marketing, based on phone calls, aiming at client subscription to bank products  (the so called term deposits) is provided. The purpose of this work is to predict whether a client will  accept/reject the subscription using  models employing the following supervised ML classifiers: KNN, Logisitic Regression, Decision Tree, Support Vector Machine."
   ]
  },
  {
   "cell_type": "code",
   "execution_count": null,
   "metadata": {},
   "outputs": [],
   "source": []
  },
  {
   "cell_type": "code",
   "execution_count": null,
   "metadata": {},
   "outputs": [],
   "source": []
  },
  {
   "cell_type": "markdown",
   "metadata": {},
   "source": [
    "### Read the treated data from memory and store it in a dataframe and recall information"
   ]
  },
  {
   "cell_type": "code",
   "execution_count": 3,
   "metadata": {},
   "outputs": [
    {
     "data": {
      "text/plain": [
       "'df_num.pkl'"
      ]
     },
     "execution_count": 3,
     "metadata": {},
     "output_type": "execute_result"
    }
   ],
   "source": [
    "val_name_numeric_dataframe_for_pickle"
   ]
  },
  {
   "cell_type": "code",
   "execution_count": 4,
   "metadata": {},
   "outputs": [
    {
     "data": {
      "text/html": [
       "<div>\n",
       "<style scoped>\n",
       "    .dataframe tbody tr th:only-of-type {\n",
       "        vertical-align: middle;\n",
       "    }\n",
       "\n",
       "    .dataframe tbody tr th {\n",
       "        vertical-align: top;\n",
       "    }\n",
       "\n",
       "    .dataframe thead th {\n",
       "        text-align: right;\n",
       "    }\n",
       "</style>\n",
       "<table border=\"1\" class=\"dataframe\">\n",
       "  <thead>\n",
       "    <tr style=\"text-align: right;\">\n",
       "      <th></th>\n",
       "      <th>age</th>\n",
       "      <th>job</th>\n",
       "      <th>marital</th>\n",
       "      <th>education</th>\n",
       "      <th>default</th>\n",
       "      <th>housing</th>\n",
       "      <th>loan</th>\n",
       "      <th>contact</th>\n",
       "      <th>month</th>\n",
       "      <th>day_of_week</th>\n",
       "      <th>...</th>\n",
       "      <th>campaign</th>\n",
       "      <th>pdays</th>\n",
       "      <th>previous</th>\n",
       "      <th>poutcome</th>\n",
       "      <th>emp.var.rate</th>\n",
       "      <th>cons.price.idx</th>\n",
       "      <th>cons.conf.idx</th>\n",
       "      <th>euribor3m</th>\n",
       "      <th>nr.employed</th>\n",
       "      <th>y1</th>\n",
       "    </tr>\n",
       "  </thead>\n",
       "  <tbody>\n",
       "    <tr>\n",
       "      <th>0</th>\n",
       "      <td>56</td>\n",
       "      <td>0.100094</td>\n",
       "      <td>0.101577</td>\n",
       "      <td>0.102515</td>\n",
       "      <td>0.128794</td>\n",
       "      <td>0.108802</td>\n",
       "      <td>0.113405</td>\n",
       "      <td>0.052317</td>\n",
       "      <td>0.064352</td>\n",
       "      <td>0.099495</td>\n",
       "      <td>...</td>\n",
       "      <td>1</td>\n",
       "      <td>999</td>\n",
       "      <td>0</td>\n",
       "      <td>0.088325</td>\n",
       "      <td>1.1</td>\n",
       "      <td>93.994</td>\n",
       "      <td>-36.4</td>\n",
       "      <td>4.857</td>\n",
       "      <td>5191.0</td>\n",
       "      <td>0</td>\n",
       "    </tr>\n",
       "    <tr>\n",
       "      <th>1</th>\n",
       "      <td>57</td>\n",
       "      <td>0.081401</td>\n",
       "      <td>0.101577</td>\n",
       "      <td>0.108367</td>\n",
       "      <td>0.051536</td>\n",
       "      <td>0.108802</td>\n",
       "      <td>0.113405</td>\n",
       "      <td>0.052317</td>\n",
       "      <td>0.064352</td>\n",
       "      <td>0.099495</td>\n",
       "      <td>...</td>\n",
       "      <td>1</td>\n",
       "      <td>999</td>\n",
       "      <td>0</td>\n",
       "      <td>0.088325</td>\n",
       "      <td>1.1</td>\n",
       "      <td>93.994</td>\n",
       "      <td>-36.4</td>\n",
       "      <td>4.857</td>\n",
       "      <td>5191.0</td>\n",
       "      <td>0</td>\n",
       "    </tr>\n",
       "    <tr>\n",
       "      <th>2</th>\n",
       "      <td>37</td>\n",
       "      <td>0.081401</td>\n",
       "      <td>0.101577</td>\n",
       "      <td>0.108367</td>\n",
       "      <td>0.128794</td>\n",
       "      <td>0.116199</td>\n",
       "      <td>0.113405</td>\n",
       "      <td>0.052317</td>\n",
       "      <td>0.064352</td>\n",
       "      <td>0.099495</td>\n",
       "      <td>...</td>\n",
       "      <td>1</td>\n",
       "      <td>999</td>\n",
       "      <td>0</td>\n",
       "      <td>0.088325</td>\n",
       "      <td>1.1</td>\n",
       "      <td>93.994</td>\n",
       "      <td>-36.4</td>\n",
       "      <td>4.857</td>\n",
       "      <td>5191.0</td>\n",
       "      <td>0</td>\n",
       "    </tr>\n",
       "    <tr>\n",
       "      <th>3</th>\n",
       "      <td>40</td>\n",
       "      <td>0.129738</td>\n",
       "      <td>0.101577</td>\n",
       "      <td>0.082060</td>\n",
       "      <td>0.128794</td>\n",
       "      <td>0.108802</td>\n",
       "      <td>0.113405</td>\n",
       "      <td>0.052317</td>\n",
       "      <td>0.064352</td>\n",
       "      <td>0.099495</td>\n",
       "      <td>...</td>\n",
       "      <td>1</td>\n",
       "      <td>999</td>\n",
       "      <td>0</td>\n",
       "      <td>0.088325</td>\n",
       "      <td>1.1</td>\n",
       "      <td>93.994</td>\n",
       "      <td>-36.4</td>\n",
       "      <td>4.857</td>\n",
       "      <td>5191.0</td>\n",
       "      <td>0</td>\n",
       "    </tr>\n",
       "    <tr>\n",
       "      <th>4</th>\n",
       "      <td>56</td>\n",
       "      <td>0.081401</td>\n",
       "      <td>0.101577</td>\n",
       "      <td>0.108367</td>\n",
       "      <td>0.128794</td>\n",
       "      <td>0.108802</td>\n",
       "      <td>0.109332</td>\n",
       "      <td>0.052317</td>\n",
       "      <td>0.064352</td>\n",
       "      <td>0.099495</td>\n",
       "      <td>...</td>\n",
       "      <td>1</td>\n",
       "      <td>999</td>\n",
       "      <td>0</td>\n",
       "      <td>0.088325</td>\n",
       "      <td>1.1</td>\n",
       "      <td>93.994</td>\n",
       "      <td>-36.4</td>\n",
       "      <td>4.857</td>\n",
       "      <td>5191.0</td>\n",
       "      <td>0</td>\n",
       "    </tr>\n",
       "  </tbody>\n",
       "</table>\n",
       "<p>5 rows × 21 columns</p>\n",
       "</div>"
      ],
      "text/plain": [
       "   age       job   marital  education   default   housing      loan   contact  \\\n",
       "0   56  0.100094  0.101577   0.102515  0.128794  0.108802  0.113405  0.052317   \n",
       "1   57  0.081401  0.101577   0.108367  0.051536  0.108802  0.113405  0.052317   \n",
       "2   37  0.081401  0.101577   0.108367  0.128794  0.116199  0.113405  0.052317   \n",
       "3   40  0.129738  0.101577   0.082060  0.128794  0.108802  0.113405  0.052317   \n",
       "4   56  0.081401  0.101577   0.108367  0.128794  0.108802  0.109332  0.052317   \n",
       "\n",
       "      month  day_of_week  ...  campaign  pdays  previous  poutcome  \\\n",
       "0  0.064352     0.099495  ...         1    999         0  0.088325   \n",
       "1  0.064352     0.099495  ...         1    999         0  0.088325   \n",
       "2  0.064352     0.099495  ...         1    999         0  0.088325   \n",
       "3  0.064352     0.099495  ...         1    999         0  0.088325   \n",
       "4  0.064352     0.099495  ...         1    999         0  0.088325   \n",
       "\n",
       "   emp.var.rate  cons.price.idx  cons.conf.idx  euribor3m  nr.employed  y1  \n",
       "0           1.1          93.994          -36.4      4.857       5191.0   0  \n",
       "1           1.1          93.994          -36.4      4.857       5191.0   0  \n",
       "2           1.1          93.994          -36.4      4.857       5191.0   0  \n",
       "3           1.1          93.994          -36.4      4.857       5191.0   0  \n",
       "4           1.1          93.994          -36.4      4.857       5191.0   0  \n",
       "\n",
       "[5 rows x 21 columns]"
      ]
     },
     "execution_count": 4,
     "metadata": {},
     "output_type": "execute_result"
    }
   ],
   "source": [
    "df_num=pd.read_pickle(val_name_numeric_dataframe_for_pickle)\n",
    "df_num.head()"
   ]
  },
  {
   "cell_type": "code",
   "execution_count": 5,
   "metadata": {},
   "outputs": [
    {
     "data": {
      "text/plain": [
       "array([ 1,  2,  3,  4,  5,  6,  7,  8,  9, 10, 11, 12, 13, 19, 18, 23, 14,\n",
       "       22, 25, 16, 17, 15, 20, 56, 39, 35, 42, 28, 26, 27, 32, 21, 24, 29,\n",
       "       31, 30, 41, 37, 40, 33, 34, 43])"
      ]
     },
     "execution_count": 5,
     "metadata": {},
     "output_type": "execute_result"
    }
   ],
   "source": [
    "#the number of contacts performed during this campaign \n",
    "#we see there are clients with one phone call others with 43\n",
    "#the number of calls to clients varies between 1 and 43\n",
    "df_num[\"campaign\"].unique()"
   ]
  },
  {
   "cell_type": "code",
   "execution_count": 6,
   "metadata": {
    "scrolled": false
   },
   "outputs": [
    {
     "data": {
      "text/plain": [
       "1     17642\n",
       "2     10570\n",
       "3      5341\n",
       "4      2651\n",
       "5      1599\n",
       "6       979\n",
       "7       629\n",
       "8       400\n",
       "9       283\n",
       "10      225\n",
       "11      177\n",
       "12      125\n",
       "13       92\n",
       "14       69\n",
       "17       58\n",
       "16       51\n",
       "15       51\n",
       "18       33\n",
       "20       30\n",
       "19       26\n",
       "21       24\n",
       "22       17\n",
       "23       16\n",
       "24       15\n",
       "27       11\n",
       "29       10\n",
       "28        8\n",
       "26        8\n",
       "25        8\n",
       "31        7\n",
       "30        7\n",
       "35        5\n",
       "32        4\n",
       "33        4\n",
       "34        3\n",
       "42        2\n",
       "40        2\n",
       "43        2\n",
       "56        1\n",
       "39        1\n",
       "41        1\n",
       "37        1\n",
       "Name: campaign, dtype: int64"
      ]
     },
     "execution_count": 6,
     "metadata": {},
     "output_type": "execute_result"
    }
   ],
   "source": [
    "#the number of occurencies per number of phonecalls\n",
    "df_num[\"campaign\"].value_counts()"
   ]
  },
  {
   "cell_type": "code",
   "execution_count": 7,
   "metadata": {},
   "outputs": [
    {
     "data": {
      "image/png": "[encoded data removed]",
      "text/plain": [
       "<Figure size 640x480 with 1 Axes>"
      ]
     },
     "metadata": {},
     "output_type": "display_data"
    }
   ],
   "source": [
    "#feature \"campaign\" represents the number of contacts performed during this \"campaign\"\n",
    "#to a client\n",
    "#hereafter we show how many clients correspond to each possible value of\n",
    "#feature \"campaign\"\n",
    "plt.figure()\n",
    "ax=sns.countplot(data=df_num[[\"campaign\"]],x=\"campaign\",palette=\"Paired\")\n",
    "ax.set_xticklabels(ax.get_xticklabels(), fontsize=6,rotation=750, ha=\"right\")\n",
    "plt.title('Quantifying feature \"Campaign\"',c=\"blue\");\n",
    "#plt.tight_layout();"
   ]
  },
  {
   "cell_type": "code",
   "execution_count": null,
   "metadata": {},
   "outputs": [],
   "source": []
  },
  {
   "cell_type": "code",
   "execution_count": 8,
   "metadata": {
    "scrolled": true
   },
   "outputs": [
    {
     "name": "stdout",
     "output_type": "stream",
     "text": [
      "<class 'pandas.core.frame.DataFrame'>\n",
      "RangeIndex: 41188 entries, 0 to 41187\n",
      "Data columns (total 21 columns):\n",
      " #   Column          Non-Null Count  Dtype  \n",
      "---  ------          --------------  -----  \n",
      " 0   age             41188 non-null  int64  \n",
      " 1   job             41188 non-null  float64\n",
      " 2   marital         41188 non-null  float64\n",
      " 3   education       41188 non-null  float64\n",
      " 4   default         41188 non-null  float64\n",
      " 5   housing         41188 non-null  float64\n",
      " 6   loan            41188 non-null  float64\n",
      " 7   contact         41188 non-null  float64\n",
      " 8   month           41188 non-null  float64\n",
      " 9   day_of_week     41188 non-null  float64\n",
      " 10  duration        41188 non-null  int64  \n",
      " 11  campaign        41188 non-null  int64  \n",
      " 12  pdays           41188 non-null  int64  \n",
      " 13  previous        41188 non-null  int64  \n",
      " 14  poutcome        41188 non-null  float64\n",
      " 15  emp.var.rate    41188 non-null  float64\n",
      " 16  cons.price.idx  41188 non-null  float64\n",
      " 17  cons.conf.idx   41188 non-null  float64\n",
      " 18  euribor3m       41188 non-null  float64\n",
      " 19  nr.employed     41188 non-null  float64\n",
      " 20  y1              41188 non-null  int64  \n",
      "dtypes: float64(15), int64(6)\n",
      "memory usage: 6.6 MB\n"
     ]
    }
   ],
   "source": [
    "#recall of the dataframe information\n",
    "df_num.info()"
   ]
  },
  {
   "cell_type": "code",
   "execution_count": 9,
   "metadata": {},
   "outputs": [
    {
     "data": {
      "text/plain": [
       "(41188, 21)"
      ]
     },
     "execution_count": 9,
     "metadata": {},
     "output_type": "execute_result"
    }
   ],
   "source": [
    "#the dimension of the dataframe, number of rows, columns\n",
    "df_num.shape"
   ]
  },
  {
   "cell_type": "code",
   "execution_count": null,
   "metadata": {},
   "outputs": [],
   "source": []
  },
  {
   "cell_type": "markdown",
   "metadata": {},
   "source": [
    "### Examining the Features\n",
    "\n",
    "\n",
    "Examine the data description below, and determine if any of the features are missing values or need to be coerced to a different data type.\n",
    "\n",
    "\n",
    "```\n",
    "Input variables:\n",
    "# bank client data:\n",
    "1 - age (numeric)\n",
    "2 - job : type of job (previously categorical: 'admin.','blue-collar','entrepreneur','housemaid','management','retired','self-employed','services','student','technician','unemployed','unknown')\n",
    "3 - marital : marital status (previously categorical: 'divorced','married','single','unknown'; note: 'divorced' means divorced or widowed)\n",
    "4 - education (previously categorical: 'basic.4y','basic.6y','basic.9y','high.school','illiterate','professional.course','university.degree','unknown')\n",
    "5 - default: has credit in default? (previously categorical: 'no','yes','unknown')\n",
    "6 - housing: has housing loan? (previously categorical: 'no','yes','unknown')\n",
    "7 - loan: has personal loan? (previously categorical: 'no','yes','unknown')\n",
    "# related with the last contact of the current campaign:\n",
    "8 - contact: contact communication type (previously categorical: 'cellular','telephone')\n",
    "9 - month: last contact month of year (previously categorical: 'jan', 'feb', 'mar', ..., 'nov', 'dec')\n",
    "10 - day_of_week: last contact day of the week (previously categorical: 'mon','tue','wed','thu','fri')\n",
    "11 - duration: last contact duration, in seconds (numeric). Important note: this attribute highly affects the output target (e.g., if duration=0 then y='no'). Yet, the duration is not known before a call is performed. Also, after the end of the call y is obviously known. Thus, this input should only be included for benchmark purposes and should be discarded if the intention is to have a realistic predictive model.\n",
    "# other attributes:\n",
    "12 - campaign: number of contacts performed during this campaign and for this client (numeric, includes last contact)\n",
    "13 - pdays: number of days that passed by after the client was last contacted from a previous campaign (numeric; 999 means client was not previously contacted)\n",
    "14 - previous: number of contacts performed before this campaign and for this client (numeric)\n",
    "15 - poutcome: outcome of the previous marketing campaign (previously categorical: 'failure','nonexistent','success')\n",
    "# social and economic context attributes\n",
    "16 - emp.var.rate: employment variation rate - quarterly indicator (numeric)\n",
    "17 - cons.price.idx: consumer price index - monthly indicator (numeric)\n",
    "18 - cons.conf.idx: consumer confidence index - monthly indicator (numeric)\n",
    "19 - euribor3m: euribor 3 month rate - daily indicator (numeric)\n",
    "20 - nr.employed: number of employees - quarterly indicator (numeric)\n",
    "\n",
    "Output variable (desired target):\n",
    "21 - y1 - has the client subscribed a term deposit? (binary: 1 ('yes'),'0'('no'))\n",
    "```\n",
    "\n"
   ]
  },
  {
   "cell_type": "code",
   "execution_count": 10,
   "metadata": {},
   "outputs": [],
   "source": [
    "#from df.info() we saw that there are numer and object type features.\n",
    "#from df.info  and/or percent_missing = df.isnull().sum() * 100 / len(df)\n",
    "#we saw that there are no missing values "
   ]
  },
  {
   "cell_type": "code",
   "execution_count": null,
   "metadata": {},
   "outputs": [],
   "source": []
  },
  {
   "cell_type": "code",
   "execution_count": null,
   "metadata": {},
   "outputs": [],
   "source": []
  },
  {
   "cell_type": "markdown",
   "metadata": {},
   "source": [
    "### Split Data into Train Test Split\n",
    "\n",
    "Since gridsearch with  k-fold cross validation will be employed\n",
    "no validation (developement) set wil be considered. \n",
    "Data will be split into 2 subsets only (not three).\n",
    "\n",
    "Data split employes the `stratify` so that both the train and test set would have a similar proportion of classes. "
   ]
  },
  {
   "cell_type": "code",
   "execution_count": 11,
   "metadata": {},
   "outputs": [
    {
     "data": {
      "text/plain": [
       "((30891, 20), (10297, 20))"
      ]
     },
     "execution_count": 11,
     "metadata": {},
     "output_type": "execute_result"
    }
   ],
   "source": [
    "v_df=df_num\n",
    "v_target=\"y1\"\n",
    "\n",
    "X_train, X_test, y_train, y_test=\\\n",
    "train_test_split(\\\n",
    "v_df.drop(v_target, axis = 1),\\\n",
    "v_df[v_target],\\\n",
    "random_state = 42,\\\n",
    "stratify = v_df[v_target])\n",
    "\n",
    "X_train.shape, X_test.shape"
   ]
  },
  {
   "cell_type": "code",
   "execution_count": null,
   "metadata": {},
   "outputs": [],
   "source": []
  },
  {
   "cell_type": "code",
   "execution_count": null,
   "metadata": {},
   "outputs": [],
   "source": []
  },
  {
   "cell_type": "code",
   "execution_count": null,
   "metadata": {},
   "outputs": [],
   "source": []
  },
  {
   "cell_type": "markdown",
   "metadata": {},
   "source": [
    "### A Baseline Model\n",
    "\n",
    "The  ML classifier should beat the score of the baseline model."
   ]
  },
  {
   "cell_type": "markdown",
   "metadata": {},
   "source": [
    "### Two ways of creating baseline model:\n",
    "Either with the majority class for all datapoints or with DummyClassifier\n"
   ]
  },
  {
   "cell_type": "markdown",
   "metadata": {},
   "source": [
    "### First baseline mode based on majority class"
   ]
  },
  {
   "cell_type": "code",
   "execution_count": 12,
   "metadata": {},
   "outputs": [
    {
     "data": {
      "text/html": [
       "<div>\n",
       "<style scoped>\n",
       "    .dataframe tbody tr th:only-of-type {\n",
       "        vertical-align: middle;\n",
       "    }\n",
       "\n",
       "    .dataframe tbody tr th {\n",
       "        vertical-align: top;\n",
       "    }\n",
       "\n",
       "    .dataframe thead th {\n",
       "        text-align: right;\n",
       "    }\n",
       "</style>\n",
       "<table border=\"1\" class=\"dataframe\">\n",
       "  <thead>\n",
       "    <tr style=\"text-align: right;\">\n",
       "      <th></th>\n",
       "      <th>y1</th>\n",
       "    </tr>\n",
       "  </thead>\n",
       "  <tbody>\n",
       "    <tr>\n",
       "      <th>34300</th>\n",
       "      <td>0</td>\n",
       "    </tr>\n",
       "    <tr>\n",
       "      <th>25076</th>\n",
       "      <td>0</td>\n",
       "    </tr>\n",
       "    <tr>\n",
       "      <th>17533</th>\n",
       "      <td>0</td>\n",
       "    </tr>\n",
       "    <tr>\n",
       "      <th>35820</th>\n",
       "      <td>0</td>\n",
       "    </tr>\n",
       "    <tr>\n",
       "      <th>1080</th>\n",
       "      <td>0</td>\n",
       "    </tr>\n",
       "    <tr>\n",
       "      <th>...</th>\n",
       "      <td>...</td>\n",
       "    </tr>\n",
       "    <tr>\n",
       "      <th>14392</th>\n",
       "      <td>0</td>\n",
       "    </tr>\n",
       "    <tr>\n",
       "      <th>7494</th>\n",
       "      <td>0</td>\n",
       "    </tr>\n",
       "    <tr>\n",
       "      <th>10747</th>\n",
       "      <td>0</td>\n",
       "    </tr>\n",
       "    <tr>\n",
       "      <th>34138</th>\n",
       "      <td>0</td>\n",
       "    </tr>\n",
       "    <tr>\n",
       "      <th>10241</th>\n",
       "      <td>0</td>\n",
       "    </tr>\n",
       "  </tbody>\n",
       "</table>\n",
       "<p>30891 rows × 1 columns</p>\n",
       "</div>"
      ],
      "text/plain": [
       "       y1\n",
       "34300   0\n",
       "25076   0\n",
       "17533   0\n",
       "35820   0\n",
       "1080    0\n",
       "...    ..\n",
       "14392   0\n",
       "7494    0\n",
       "10747   0\n",
       "34138   0\n",
       "10241   0\n",
       "\n",
       "[30891 rows x 1 columns]"
      ]
     },
     "execution_count": 12,
     "metadata": {},
     "output_type": "execute_result"
    }
   ],
   "source": [
    "df_target=pd.DataFrame(y_train, columns=['y1'])\n",
    "df_target"
   ]
  },
  {
   "cell_type": "code",
   "execution_count": 13,
   "metadata": {},
   "outputs": [
    {
     "data": {
      "image/png": "[encoded data removed]",
      "text/plain": [
       "<Figure size 640x480 with 1 Axes>"
      ]
     },
     "metadata": {},
     "output_type": "display_data"
    }
   ],
   "source": [
    "#we measure how many observatiosn are associates with\n",
    "#the possible values of the target variable\n",
    "sns.countplot(data=df_target,x=\"y1\")\n",
    "plt.title('Count of target observations',c=\"blue\");"
   ]
  },
  {
   "cell_type": "code",
   "execution_count": 14,
   "metadata": {},
   "outputs": [
    {
     "data": {
      "text/plain": [
       "0    0.887346\n",
       "1    0.112654\n",
       "Name: y1, dtype: float64"
      ]
     },
     "execution_count": 14,
     "metadata": {},
     "output_type": "execute_result"
    }
   ],
   "source": [
    "#distribution of the target values for the train set\n",
    "y_train.value_counts(normalize=True)"
   ]
  },
  {
   "cell_type": "code",
   "execution_count": 15,
   "metadata": {
    "scrolled": true
   },
   "outputs": [
    {
     "data": {
      "text/plain": [
       "y1\n",
       "0     0.887346\n",
       "1     0.112654\n",
       "dtype: float64"
      ]
     },
     "execution_count": 15,
     "metadata": {},
     "output_type": "execute_result"
    }
   ],
   "source": [
    "#distribution of the target values for the testn set\n",
    "df_target_test=pd.DataFrame(y_test, columns=['y1'])\n",
    "df_target_test.value_counts(normalize=True)"
   ]
  },
  {
   "cell_type": "code",
   "execution_count": 16,
   "metadata": {},
   "outputs": [
    {
     "data": {
      "text/html": [
       "<div>\n",
       "<style scoped>\n",
       "    .dataframe tbody tr th:only-of-type {\n",
       "        vertical-align: middle;\n",
       "    }\n",
       "\n",
       "    .dataframe tbody tr th {\n",
       "        vertical-align: top;\n",
       "    }\n",
       "\n",
       "    .dataframe thead th {\n",
       "        text-align: right;\n",
       "    }\n",
       "</style>\n",
       "<table border=\"1\" class=\"dataframe\">\n",
       "  <thead>\n",
       "    <tr style=\"text-align: right;\">\n",
       "      <th></th>\n",
       "      <th>y1</th>\n",
       "    </tr>\n",
       "  </thead>\n",
       "  <tbody>\n",
       "    <tr>\n",
       "      <th>31165</th>\n",
       "      <td>1</td>\n",
       "    </tr>\n",
       "    <tr>\n",
       "      <th>26855</th>\n",
       "      <td>0</td>\n",
       "    </tr>\n",
       "    <tr>\n",
       "      <th>38292</th>\n",
       "      <td>0</td>\n",
       "    </tr>\n",
       "    <tr>\n",
       "      <th>8532</th>\n",
       "      <td>0</td>\n",
       "    </tr>\n",
       "    <tr>\n",
       "      <th>25472</th>\n",
       "      <td>0</td>\n",
       "    </tr>\n",
       "    <tr>\n",
       "      <th>...</th>\n",
       "      <td>...</td>\n",
       "    </tr>\n",
       "    <tr>\n",
       "      <th>2225</th>\n",
       "      <td>0</td>\n",
       "    </tr>\n",
       "    <tr>\n",
       "      <th>23672</th>\n",
       "      <td>0</td>\n",
       "    </tr>\n",
       "    <tr>\n",
       "      <th>12770</th>\n",
       "      <td>0</td>\n",
       "    </tr>\n",
       "    <tr>\n",
       "      <th>4177</th>\n",
       "      <td>0</td>\n",
       "    </tr>\n",
       "    <tr>\n",
       "      <th>10252</th>\n",
       "      <td>0</td>\n",
       "    </tr>\n",
       "  </tbody>\n",
       "</table>\n",
       "<p>10297 rows × 1 columns</p>\n",
       "</div>"
      ],
      "text/plain": [
       "       y1\n",
       "31165   1\n",
       "26855   0\n",
       "38292   0\n",
       "8532    0\n",
       "25472   0\n",
       "...    ..\n",
       "2225    0\n",
       "23672   0\n",
       "12770   0\n",
       "4177    0\n",
       "10252   0\n",
       "\n",
       "[10297 rows x 1 columns]"
      ]
     },
     "execution_count": 16,
     "metadata": {},
     "output_type": "execute_result"
    }
   ],
   "source": [
    "df_target_test"
   ]
  },
  {
   "cell_type": "code",
   "execution_count": null,
   "metadata": {},
   "outputs": [],
   "source": []
  },
  {
   "cell_type": "code",
   "execution_count": null,
   "metadata": {},
   "outputs": [],
   "source": []
  },
  {
   "cell_type": "code",
   "execution_count": null,
   "metadata": {},
   "outputs": [],
   "source": []
  },
  {
   "cell_type": "markdown",
   "metadata": {},
   "source": [
    "### Second baseline mode using  DummyClassifier"
   ]
  },
  {
   "cell_type": "code",
   "execution_count": 17,
   "metadata": {},
   "outputs": [
    {
     "data": {
      "text/plain": [
       "0.8873458288821987"
      ]
     },
     "execution_count": 17,
     "metadata": {},
     "output_type": "execute_result"
    }
   ],
   "source": [
    "\n",
    "dummy_clf = DummyClassifier().fit(X_train, y_train)\n",
    "baseline_score = dummy_clf.score(X_test, y_test)\n",
    "\n",
    "baseline_score"
   ]
  },
  {
   "cell_type": "code",
   "execution_count": null,
   "metadata": {},
   "outputs": [],
   "source": []
  },
  {
   "cell_type": "markdown",
   "metadata": {},
   "source": [
    "### Simple Model Comparison\n",
    "Comparison of classifiers created according to KNN, Logistsic Tegression, Decision tree and Support Vector Machine algorithms and using the default values\n"
   ]
  },
  {
   "cell_type": "code",
   "execution_count": 18,
   "metadata": {},
   "outputs": [
    {
     "data": {
      "text/plain": [
       "(0.01298379898071289, 0.9263863261144023, 0.9041468388851122)"
      ]
     },
     "execution_count": 18,
     "metadata": {},
     "output_type": "execute_result"
    }
   ],
   "source": [
    "#pipeline for KNN\n",
    "pipe_knn=Pipeline([\n",
    "    (\"scale\",StandardScaler()),\n",
    "    (\"knn_clas\", KNeighborsClassifier())\n",
    "])\n",
    "\n",
    "#The starting time for the pipe execution\n",
    "start_t = time.time()\n",
    "pipe_knn.fit(X_train, y_train)\n",
    "#The ending time for the pipe execution\n",
    "end_t = time.time()\n",
    "\n",
    "#the train duration ofr the knn classifier\n",
    "duration_knn_train=end_t - start_t\n",
    "\n",
    "#the accuracy of the train set for the KNN\n",
    "accuracy_knn_train=pipe_knn.score(X_train, y_train)\n",
    "\n",
    "#the acuracy of the test set for the KNN\n",
    "accuracy_knn_test=pipe_knn.score(X_test, y_test)\n",
    "\n",
    "#training duration, accuracy for the training set, accuracy for the testing set\n",
    "duration_knn_train,accuracy_knn_train,accuracy_knn_test"
   ]
  },
  {
   "cell_type": "code",
   "execution_count": 19,
   "metadata": {},
   "outputs": [
    {
     "data": {
      "text/plain": [
       "(0.06582975387573242, 0.9091968534524619, 0.9119160920656502)"
      ]
     },
     "execution_count": 19,
     "metadata": {},
     "output_type": "execute_result"
    }
   ],
   "source": [
    "\n",
    "#foc computing the fit time of classifiers\n",
    "\n",
    "#start_t = time.time()\n",
    "#logistic_reg=LogisticRegression().fit(X_train, y_train)\n",
    "#end_t = time.time()\n",
    "\n",
    "#or\n",
    "\n",
    "#logistic regression classifier\n",
    "pipe_log_reg=Pipeline([\n",
    "(\"scaler\",StandardScaler()),\n",
    "(\"logistic_reg_clas\",LogisticRegression())\n",
    "])\n",
    "\n",
    "start_t = time.time()\n",
    "pipe_log_reg.fit(X_train, y_train)\n",
    "end_t = time.time()\n",
    "\n",
    "#the training duration for the logistic regression model\n",
    "duration_log_reg_train=end_t - start_t\n",
    "\n",
    "\n",
    "#for pipeline score is the accuracy for classificiation\n",
    "#if we want another score\n",
    "#from sklearn.metrics import balanced_accuracy\n",
    "#y_pred = pipeline.predict(self.X[test])\n",
    "#balanced_accuracy(self.y_test, y_pred)\n",
    "\n",
    "#the accuracy for the train set for the  logistic regression model\n",
    "accuracy_log_reg_train=pipe_log_reg.score(X_train, y_train)\n",
    "\n",
    "#the accuracy for the test set for the  logistic regression model\n",
    "accuracy_log_reg_test=pipe_log_reg.score(X_test, y_test)\n",
    "\n",
    "duration_log_reg_train, accuracy_log_reg_train,accuracy_log_reg_test"
   ]
  },
  {
   "cell_type": "code",
   "execution_count": 20,
   "metadata": {},
   "outputs": [
    {
     "data": {
      "text/plain": [
       "(0.08850598335266113, 1.0, 1.0)"
      ]
     },
     "execution_count": 20,
     "metadata": {},
     "output_type": "execute_result"
    }
   ],
   "source": [
    "#decision tree\n",
    "\n",
    "#decision trees are not sensitive to feature scaling \n",
    "#their splits don’t change with any monotonic transformation\n",
    "\n",
    "#Normalization is not necessary either, but it can change  results\n",
    "\n",
    "#for model homogeneity a pipeline for decision tree is created although\n",
    "# a single model instatiation would suffice as the pipeline\n",
    "#now is comprised only of oen step\n",
    "\n",
    "#however we make the choice to create it as  further  we will employ it\n",
    "#for gridserch\n",
    "pipe_dtree=Pipeline([\n",
    "(\"dt_clas\",DecisionTreeClassifier(random_state=42))\n",
    "])\n",
    "\n",
    "start_t = time.time()\n",
    "pipe_dtree.fit(X_train, y_train)\n",
    "end_t = time.time()\n",
    "\n",
    "#the training duration  for the decison tree classifier \n",
    "duration_dt_train=end_t - start_t\n",
    "\n",
    "#y_pred_dt = dtree_clas.predict(X_test)\n",
    "#accuracy_dt=accuracy_score(y_test, y_pred_dt)\n",
    "\n",
    "#The accuracy for the train set for the decison tree classifier\n",
    "accuracy_dt_train=pipe_dtree.score(X_train, y_train)\n",
    "\n",
    "#The accuracy for the test set for the decison tree classifier\n",
    "accuracy_dt_test=pipe_dtree.score(X_test, y_test)\n",
    "\n",
    "duration_dt_train,accuracy_dt_train,accuracy_dt_test"
   ]
  },
  {
   "cell_type": "code",
   "execution_count": 21,
   "metadata": {},
   "outputs": [
    {
     "data": {
      "text/plain": [
       "(0.9217247742060795, 0.9145382150140817, 8.005692958831787)"
      ]
     },
     "execution_count": 21,
     "metadata": {},
     "output_type": "execute_result"
    }
   ],
   "source": [
    "#pipeline for SVM support vector machine\n",
    "\n",
    "#we scale data before as it may increase significantly the model performance\n",
    "\n",
    "#pipeline for the support vector machine model\n",
    "pipe_svm = Pipeline([\n",
    "(\"scale\",StandardScaler()),\n",
    "(\"svm_clas\", SVC())\n",
    "])\n",
    "\n",
    "#the time here will contain the standardization +pipeline delays\n",
    "start_t = time.time()\n",
    "pipe_svm.fit(X_train, y_train)\n",
    "end_t = time.time()\n",
    "\n",
    "#the train duration for the svm model \n",
    "duration_svm_train=end_t - start_t\n",
    "\n",
    "#the accuracy for the train set for the svm model \n",
    "accuracy_svm_train=pipe_svm.score(X_train, y_train)\n",
    "\n",
    "#the accuracy for the test set for the svm model \n",
    "accuracy_svm_test=pipe_svm.score(X_test, y_test)\n",
    "\n",
    "accuracy_svm_train,accuracy_svm_test,duration_svm_train"
   ]
  },
  {
   "cell_type": "code",
   "execution_count": null,
   "metadata": {},
   "outputs": [],
   "source": []
  },
  {
   "cell_type": "code",
   "execution_count": 22,
   "metadata": {},
   "outputs": [
    {
     "data": {
      "text/html": [
       "<div>\n",
       "<style scoped>\n",
       "    .dataframe tbody tr th:only-of-type {\n",
       "        vertical-align: middle;\n",
       "    }\n",
       "\n",
       "    .dataframe tbody tr th {\n",
       "        vertical-align: top;\n",
       "    }\n",
       "\n",
       "    .dataframe thead th {\n",
       "        text-align: right;\n",
       "    }\n",
       "</style>\n",
       "<table border=\"1\" class=\"dataframe\">\n",
       "  <thead>\n",
       "    <tr style=\"text-align: right;\">\n",
       "      <th></th>\n",
       "      <th>Train Time</th>\n",
       "      <th>Train Accuracy</th>\n",
       "      <th>Test Accuracy</th>\n",
       "    </tr>\n",
       "    <tr>\n",
       "      <th>Model</th>\n",
       "      <th></th>\n",
       "      <th></th>\n",
       "      <th></th>\n",
       "    </tr>\n",
       "  </thead>\n",
       "  <tbody>\n",
       "    <tr>\n",
       "      <th>KNN</th>\n",
       "      <td>0.013</td>\n",
       "      <td>0.926386</td>\n",
       "      <td>0.904147</td>\n",
       "    </tr>\n",
       "    <tr>\n",
       "      <th>Logistic Regression</th>\n",
       "      <td>0.066</td>\n",
       "      <td>0.909197</td>\n",
       "      <td>0.911916</td>\n",
       "    </tr>\n",
       "    <tr>\n",
       "      <th>Decision Tree</th>\n",
       "      <td>0.089</td>\n",
       "      <td>1.000000</td>\n",
       "      <td>1.000000</td>\n",
       "    </tr>\n",
       "    <tr>\n",
       "      <th>SVM</th>\n",
       "      <td>8.006</td>\n",
       "      <td>0.921725</td>\n",
       "      <td>0.914538</td>\n",
       "    </tr>\n",
       "  </tbody>\n",
       "</table>\n",
       "</div>"
      ],
      "text/plain": [
       "                     Train Time  Train Accuracy  Test Accuracy\n",
       "Model                                                         \n",
       "KNN                       0.013        0.926386       0.904147\n",
       "Logistic Regression       0.066        0.909197       0.911916\n",
       "Decision Tree             0.089        1.000000       1.000000\n",
       "SVM                       8.006        0.921725       0.914538"
      ]
     },
     "execution_count": 22,
     "metadata": {},
     "output_type": "execute_result"
    }
   ],
   "source": [
    "#the dataframe witht he resutls for each classifier using accuracy for scoring\n",
    "#and all the default values\n",
    "dict_results=\\\n",
    "    {\n",
    "        'Model': ['KNN', 'Logistic Regression', 'Decision Tree',\"SVM\"], \n",
    "        'Train Time': [round(duration_knn_train,3),\\\n",
    "                       round(duration_log_reg_train,3),\\\n",
    "                       round(duration_dt_train,3),\\\n",
    "                       round(duration_svm_train,3)],\n",
    "        \"Train Accuracy\":[accuracy_knn_train,accuracy_log_reg_train,\\\n",
    "                         accuracy_dt_train,\\\n",
    "                         accuracy_svm_train],\n",
    "        \"Test Accuracy\":[accuracy_knn_test,accuracy_log_reg_test,\\\n",
    "                         accuracy_dt_test,\\\n",
    "                         accuracy_svm_test]\n",
    "    }\n",
    "\n",
    "df_compare_clas = pd.DataFrame(dict_results).set_index(\"Model\")\n",
    "df_compare_clas"
   ]
  },
  {
   "cell_type": "code",
   "execution_count": 23,
   "metadata": {},
   "outputs": [
    {
     "name": "stdout",
     "output_type": "stream",
     "text": [
      "Clasifier with min Test Accuracy: KNN , Accuracy :  0.9041468388851122\n",
      "\n",
      "clasifier with max Test Accuracy: Decision Tree , Accuracy :  1.0\n"
     ]
    }
   ],
   "source": [
    "#the classifier with the min test accuracy\n",
    "clas_with_min_test_ac=df_compare_clas[['Test Accuracy']].idxmin()[0]\n",
    "min_ac=df_compare_clas.loc[clas_with_min_test_ac][\"Test Accuracy\"]\n",
    "\n",
    "\n",
    "#the classifier with the max test_accuracy\n",
    "clas_with_max_test_ac=df_compare_clas[['Test Accuracy']].idxmax()[0]\n",
    "max_ac=df_compare_clas.loc[clas_with_max_test_ac][\"Test Accuracy\"]\n",
    "\n",
    "print(\"Clasifier with min Test Accuracy:\", clas_with_min_test_ac, \", Accuracy : \",min_ac)\n",
    "print()\n",
    "print(\"clasifier with max Test Accuracy:\", clas_with_max_test_ac, \", Accuracy : \",max_ac)\n",
    "      "
   ]
  },
  {
   "cell_type": "code",
   "execution_count": 24,
   "metadata": {},
   "outputs": [],
   "source": [
    "#We observe that the worse classifier amongst the experimented ones does better than\n",
    "#the base line model having precision ~88,7%"
   ]
  },
  {
   "cell_type": "code",
   "execution_count": null,
   "metadata": {},
   "outputs": [],
   "source": []
  },
  {
   "cell_type": "markdown",
   "metadata": {},
   "source": [
    "### Model Improvement"
   ]
  },
  {
   "cell_type": "markdown",
   "metadata": {},
   "source": [
    "### Feature Selection"
   ]
  },
  {
   "cell_type": "code",
   "execution_count": 25,
   "metadata": {},
   "outputs": [],
   "source": [
    "\n",
    "#many approaches for feature selction\n",
    "#here we wille examine only the following two ones"
   ]
  },
  {
   "cell_type": "markdown",
   "metadata": {},
   "source": [
    "### RandomForest Technique for Feature Selection"
   ]
  },
  {
   "cell_type": "code",
   "execution_count": 26,
   "metadata": {},
   "outputs": [
    {
     "name": "stdout",
     "output_type": "stream",
     "text": [
      "Index(['marital', 'default', 'housing', 'loan', 'contact', 'poutcome'], dtype='object')\n"
     ]
    }
   ],
   "source": [
    "#we don't use this exaclty see below\n",
    "\n",
    "#random forest\n",
    "#from sklearn.ensemble import RandomForestClassfier\n",
    "#from sklearn.feature_selection import SelectFromModel\n",
    "\n",
    "#A random forest classifier \n",
    "#is a meta estimator that fits a number of decision tree classifiers \n",
    "#on various sub-samples of the dataset and \n",
    "#uses averaging to improve the predictive accuracy and control over-fitting\n",
    "#https://scikit-learn.org/stable/modules/generated/sklearn.ensemble.RandomForestClassifier.html\n",
    "\n",
    "#SelectFromModel\n",
    "#Meta-transformer for selecting features based on importance weights.\n",
    "\n",
    "#we specify the random forest instance, indicating the number of trees\n",
    "# then\n",
    "#use selectFromModel object from sklearn to automatically select the features.\n",
    "#n_estimators = 100 default value we precise it to remember it\n",
    "sel = SelectFromModel(RandomForestClassifier(n_estimators = 100))\n",
    "sel.fit(X_train, y_train)\n",
    "sel.get_support()\n",
    "\n",
    "#the name of selected features\n",
    "selected_feat= X_train.columns[(sel.get_support())]\n",
    "#the number of selected features\n",
    "len(selected_feat)\n",
    "#the name of selected features\n",
    "print(selected_feat)"
   ]
  },
  {
   "cell_type": "code",
   "execution_count": 27,
   "metadata": {},
   "outputs": [],
   "source": [
    "#alternatively"
   ]
  },
  {
   "cell_type": "code",
   "execution_count": 28,
   "metadata": {},
   "outputs": [
    {
     "data": {
      "text/plain": [
       "Index(['marital', 'default', 'housing', 'loan', 'contact', 'poutcome'], dtype='object')"
      ]
     },
     "execution_count": 28,
     "metadata": {},
     "output_type": "execute_result"
    },
    {
     "data": {
      "image/png": "[encoded data removed]",
      "text/plain": [
       "<Figure size 1000x800 with 1 Axes>"
      ]
     },
     "metadata": {},
     "output_type": "display_data"
    }
   ],
   "source": [
    "\n",
    "\n",
    "rf=RandomForestClassifier(n_estimators = 100)\n",
    "rf.fit(X_train, y_train)\n",
    "\n",
    "\n",
    "\n",
    "#we call function plot_feature_importance defined in file cc_fi_fcts\n",
    "cc_fi_fcts.plot_feature_importance(rf.feature_importances_,X_train.columns,'RANDOM FOREST')\n",
    "\n",
    "sel = SelectFromModel(rf,prefit=True)\n",
    "sel.fit(X_train,y_train)\n",
    "sel.get_support()\n",
    "\n",
    "#the name of selected features\n",
    "selected_features_rf= X_train.columns[(sel.get_support())]\n",
    "\n",
    "selected_features_rf"
   ]
  },
  {
   "cell_type": "code",
   "execution_count": 29,
   "metadata": {},
   "outputs": [],
   "source": [
    "#the delected_Featyres_rf=['marital', 'default', 'housing', 'loan', 'contact', 'poutcome']\n",
    "#are going to be considered."
   ]
  },
  {
   "cell_type": "code",
   "execution_count": null,
   "metadata": {},
   "outputs": [],
   "source": []
  },
  {
   "cell_type": "markdown",
   "metadata": {},
   "source": [
    "### FEATURE SELECTION WITH LOGISITC REGRESSION "
   ]
  },
  {
   "cell_type": "code",
   "execution_count": 30,
   "metadata": {},
   "outputs": [
    {
     "name": "stdout",
     "output_type": "stream",
     "text": [
      "selected, features:  Index(['age', 'job', 'marital', 'education', 'default', 'contact', 'month',\n",
      "       'duration', 'campaign', 'pdays', 'previous', 'poutcome', 'emp.var.rate',\n",
      "       'cons.price.idx', 'cons.conf.idx', 'euribor3m', 'nr.employed'],\n",
      "      dtype='object')\n",
      "feature coefficients:  [[ 1.24649359e-03  2.48756991e+00  8.01547753e-01  4.24194460e+00\n",
      "   4.01355819e+00  0.00000000e+00  0.00000000e+00  6.36933758e+00\n",
      "   1.82407108e+00  0.00000000e+00  4.54711882e-03 -2.78460813e-02\n",
      "  -1.60774865e-03 -2.85009129e-01  5.17678814e-01 -4.88541051e-01\n",
      "   4.13968127e-01  1.61067160e-02  2.28179453e-01 -8.46086427e-03]]\n"
     ]
    },
    {
     "data": {
      "text/html": [
       "<div>\n",
       "<style scoped>\n",
       "    .dataframe tbody tr th:only-of-type {\n",
       "        vertical-align: middle;\n",
       "    }\n",
       "\n",
       "    .dataframe tbody tr th {\n",
       "        vertical-align: top;\n",
       "    }\n",
       "\n",
       "    .dataframe thead th {\n",
       "        text-align: right;\n",
       "    }\n",
       "</style>\n",
       "<table border=\"1\" class=\"dataframe\">\n",
       "  <thead>\n",
       "    <tr style=\"text-align: right;\">\n",
       "      <th></th>\n",
       "      <th>feature</th>\n",
       "      <th>coefs</th>\n",
       "    </tr>\n",
       "  </thead>\n",
       "  <tbody>\n",
       "    <tr>\n",
       "      <th>0</th>\n",
       "      <td>age</td>\n",
       "      <td>0.001246</td>\n",
       "    </tr>\n",
       "    <tr>\n",
       "      <th>1</th>\n",
       "      <td>job</td>\n",
       "      <td>2.487570</td>\n",
       "    </tr>\n",
       "    <tr>\n",
       "      <th>2</th>\n",
       "      <td>marital</td>\n",
       "      <td>0.801548</td>\n",
       "    </tr>\n",
       "    <tr>\n",
       "      <th>3</th>\n",
       "      <td>education</td>\n",
       "      <td>4.241945</td>\n",
       "    </tr>\n",
       "    <tr>\n",
       "      <th>4</th>\n",
       "      <td>default</td>\n",
       "      <td>4.013558</td>\n",
       "    </tr>\n",
       "    <tr>\n",
       "      <th>5</th>\n",
       "      <td>housing</td>\n",
       "      <td>0.000000</td>\n",
       "    </tr>\n",
       "    <tr>\n",
       "      <th>6</th>\n",
       "      <td>loan</td>\n",
       "      <td>0.000000</td>\n",
       "    </tr>\n",
       "    <tr>\n",
       "      <th>7</th>\n",
       "      <td>contact</td>\n",
       "      <td>6.369338</td>\n",
       "    </tr>\n",
       "    <tr>\n",
       "      <th>8</th>\n",
       "      <td>month</td>\n",
       "      <td>1.824071</td>\n",
       "    </tr>\n",
       "    <tr>\n",
       "      <th>9</th>\n",
       "      <td>day_of_week</td>\n",
       "      <td>0.000000</td>\n",
       "    </tr>\n",
       "    <tr>\n",
       "      <th>10</th>\n",
       "      <td>duration</td>\n",
       "      <td>0.004547</td>\n",
       "    </tr>\n",
       "    <tr>\n",
       "      <th>11</th>\n",
       "      <td>campaign</td>\n",
       "      <td>-0.027846</td>\n",
       "    </tr>\n",
       "    <tr>\n",
       "      <th>12</th>\n",
       "      <td>pdays</td>\n",
       "      <td>-0.001608</td>\n",
       "    </tr>\n",
       "    <tr>\n",
       "      <th>13</th>\n",
       "      <td>previous</td>\n",
       "      <td>-0.285009</td>\n",
       "    </tr>\n",
       "    <tr>\n",
       "      <th>14</th>\n",
       "      <td>poutcome</td>\n",
       "      <td>0.517679</td>\n",
       "    </tr>\n",
       "    <tr>\n",
       "      <th>15</th>\n",
       "      <td>emp.var.rate</td>\n",
       "      <td>-0.488541</td>\n",
       "    </tr>\n",
       "    <tr>\n",
       "      <th>16</th>\n",
       "      <td>cons.price.idx</td>\n",
       "      <td>0.413968</td>\n",
       "    </tr>\n",
       "    <tr>\n",
       "      <th>17</th>\n",
       "      <td>cons.conf.idx</td>\n",
       "      <td>0.016107</td>\n",
       "    </tr>\n",
       "    <tr>\n",
       "      <th>18</th>\n",
       "      <td>euribor3m</td>\n",
       "      <td>0.228179</td>\n",
       "    </tr>\n",
       "    <tr>\n",
       "      <th>19</th>\n",
       "      <td>nr.employed</td>\n",
       "      <td>-0.008461</td>\n",
       "    </tr>\n",
       "  </tbody>\n",
       "</table>\n",
       "</div>"
      ],
      "text/plain": [
       "           feature     coefs\n",
       "0              age  0.001246\n",
       "1              job  2.487570\n",
       "2          marital  0.801548\n",
       "3        education  4.241945\n",
       "4          default  4.013558\n",
       "5          housing  0.000000\n",
       "6             loan  0.000000\n",
       "7          contact  6.369338\n",
       "8            month  1.824071\n",
       "9      day_of_week  0.000000\n",
       "10        duration  0.004547\n",
       "11        campaign -0.027846\n",
       "12           pdays -0.001608\n",
       "13        previous -0.285009\n",
       "14        poutcome  0.517679\n",
       "15    emp.var.rate -0.488541\n",
       "16  cons.price.idx  0.413968\n",
       "17   cons.conf.idx  0.016107\n",
       "18       euribor3m  0.228179\n",
       "19     nr.employed -0.008461"
      ]
     },
     "execution_count": 30,
     "metadata": {},
     "output_type": "execute_result"
    }
   ],
   "source": [
    "extractor = SelectFromModel(LogisticRegression(penalty='l1', \\\n",
    "solver = 'liblinear' ,random_state = 42, max_iter=10000))\n",
    "extractor\n",
    "extractor.fit(X_train, y_train)\n",
    "extractor.get_support()\n",
    "selected_features_log_reg= X_train.columns[(extractor.get_support())]\n",
    "\n",
    "selected_features=list(selected_features_log_reg)\n",
    "\n",
    "print(\"selected, features: \", selected_features_log_reg)\n",
    "      \n",
    "coefs=extractor.estimator_.coef_\n",
    "\n",
    "print(\"feature coefficients: \",coefs)\n",
    "\n",
    "#the dataframe with the feature coefficients according to logistic regression\n",
    "coef_log_r_df =\\\n",
    "pd.DataFrame({'feature': list(X_train.columns), 'coefs': coefs[0]})\n",
    "\n",
    "coef_log_r_df"
   ]
  },
  {
   "cell_type": "code",
   "execution_count": null,
   "metadata": {},
   "outputs": [],
   "source": []
  },
  {
   "cell_type": "code",
   "execution_count": 31,
   "metadata": {},
   "outputs": [],
   "source": [
    "##for the feature selection we could also try the majority vote\n",
    "\n",
    "#HEREAFTER WE WiLL CONTINUe WITH THE FEATURE SELECTION FROM THE RANDOM FOREST\n",
    "#'marital', 'default', 'housing', 'loan', 'poutcome'"
   ]
  },
  {
   "cell_type": "code",
   "execution_count": null,
   "metadata": {},
   "outputs": [],
   "source": []
  },
  {
   "cell_type": "code",
   "execution_count": null,
   "metadata": {},
   "outputs": [],
   "source": []
  },
  {
   "cell_type": "markdown",
   "metadata": {},
   "source": [
    "### IMPROVING THE MODELS"
   ]
  },
  {
   "cell_type": "code",
   "execution_count": null,
   "metadata": {},
   "outputs": [],
   "source": []
  },
  {
   "cell_type": "code",
   "execution_count": 32,
   "metadata": {},
   "outputs": [
    {
     "data": {
      "text/plain": [
       "(        marital   default   housing      loan   contact  poutcome\n",
       " 34300  0.140054  0.128794  0.116199  0.109332  0.147382  0.088325\n",
       " 25076  0.101577  0.128794  0.108802  0.113405  0.147382  0.142319\n",
       " 17533  0.101577  0.051536  0.108802  0.113405  0.147382  0.088325\n",
       " 35820  0.101577  0.051536  0.108802  0.113405  0.147382  0.088325\n",
       " 1080   0.101577  0.128794  0.116199  0.113405  0.052317  0.088325,\n",
       " '------',\n",
       "         marital   default   housing      loan   contact  poutcome\n",
       " 31165  0.139967  0.128763  0.116153  0.113376  0.147343  0.088296\n",
       " 26855  0.103231  0.128794  0.116199  0.113405  0.147382  0.088325\n",
       " 38292  0.101577  0.128794  0.108802  0.113405  0.147382  0.088325\n",
       " 8532   0.140054  0.128794  0.108802  0.113405  0.052317  0.088325\n",
       " 25472  0.101577  0.128794  0.116199  0.113405  0.147382  0.088325)"
      ]
     },
     "execution_count": 32,
     "metadata": {},
     "output_type": "execute_result"
    }
   ],
   "source": [
    "#we define the train and test sets with the selected features from the random forest\n",
    "\n",
    "\n",
    "X_train_1=X_train[list(selected_features_rf)]\n",
    "X_test_1=X_test[list(selected_features_rf)]\n",
    "X_train_1.head(),\"------\",X_test_1.head()"
   ]
  },
  {
   "cell_type": "code",
   "execution_count": null,
   "metadata": {},
   "outputs": [],
   "source": []
  },
  {
   "cell_type": "code",
   "execution_count": 33,
   "metadata": {},
   "outputs": [],
   "source": [
    "#WE WILL USE THE FOUR PIPELINE MODELS FOR \n",
    "#KNN, LOG. REGRESSION, DECISION TREE AND SVM\n",
    "#DEFINED EARLIER"
   ]
  },
  {
   "cell_type": "code",
   "execution_count": 34,
   "metadata": {},
   "outputs": [],
   "source": [
    "#parameters pipe\n",
    "\n",
    "#dictionary parameter KNN\n",
    "param_knn={\\\n",
    "'estim':[pipe_knn],\n",
    "'estim__knn_clas__n_neighbors':[3,7,10,30,70], \n",
    "'estim__knn_clas__weights':[\"uniform\", \"distance\"],\n",
    "#'estim__p':[1,2]\n",
    "}\n",
    "\n",
    "#dictionary parameter Logistic Regression\n",
    "param_log_reg={\\\n",
    "'estim':[pipe_log_reg],\n",
    "'estim__logistic_reg_clas__max_iter':[100,1000]\n",
    "}\n",
    "\n",
    "param_dt = {\\\n",
    "'estim':[pipe_dtree],\n",
    "\"estim__dt_clas__criterion\":[\"gini\",\"entropy\"],\n",
    "'estim__dt_clas__min_impurity_decrease': [0.01, 0.02, 0.03, 0.05],\n",
    "'estim__dt_clas__max_depth': [2, 5, 10],\n",
    "'estim__dt_clas__min_samples_split': [0.1, 0.2, 0.05]}\n",
    "\n",
    "\n",
    "param_svm = {\\\n",
    "'estim':[pipe_svm],\n",
    "\"estim__svm_clas__kernel\": ['rbf','sigmoid'],#, 'poly', 'linear', 'sigmoid'],\n",
    "'estim__svm_clas__gamma': [0.1, 1.0, 10.0, 100.0],#, 100.0],\n",
    "'estim__svm_clas__C':[1,10,100]}\n",
    "#[2,3]\n",
    "#'estim__svm_clas__C':[1,100]\n",
    "#['rbf','sigmoid']OK 'estim__svm_clas__gamma': [0.01, 1.0, 10.0]\n",
    "#'estim__svm_clas__degree': [2,3],\\\n",
    "\n",
    "\n",
    "pipeline = Pipeline([('estim', pipe_knn)])\n",
    "\n",
    "params = [param_knn,\\\n",
    "param_log_reg,\\\n",
    "param_dt,\\\n",
    "param_svm    \n",
    "]\n",
    "\n",
    "#params = [param_svm]\n",
    "#pipeline = Pipeline([('estim',pipe_svm)])\n",
    "\n",
    "\n",
    "#we test the grid search on the accuracy metric\n",
    "#gs_obj=GridSearchCV(pipeline, params, cv=5,scoring=\"accuracy\")\n"
   ]
  },
  {
   "cell_type": "code",
   "execution_count": null,
   "metadata": {},
   "outputs": [],
   "source": []
  },
  {
   "cell_type": "code",
   "execution_count": 35,
   "metadata": {},
   "outputs": [],
   "source": [
    "val_li_score_metrics=[\"accuracy\",\"f1\",\"precision\",\"recall\",\"roc_auc\"]\n",
    "v_pipeline=pipeline\n",
    "v_params=params\n",
    "v_cv=5\n",
    "v_X=X_train_1\n",
    "v_y=y_train\n",
    "v_X_test=X_test_1\n",
    "v_y_test=y_test"
   ]
  },
  {
   "cell_type": "code",
   "execution_count": 36,
   "metadata": {},
   "outputs": [
    {
     "name": "stdout",
     "output_type": "stream",
     "text": [
      "hi\n"
     ]
    }
   ],
   "source": [
    "print(\"hi\")"
   ]
  },
  {
   "cell_type": "code",
   "execution_count": 37,
   "metadata": {},
   "outputs": [],
   "source": [
    "#di_rep_gs_multiple_metrics=dict, key=id metric\n",
    "#vamue=[gs oject, best score]\n",
    "\n",
    "#we call fct fct_di_results_gridsearchcv_various_score_metrics\n",
    "#defined in file cc_fi_fcts\n",
    "\n",
    "di_rep_gs_multiple_metrics=\\\n",
    "cc_fi_fcts.fct_di_results_gridsearchcv_various_score_metrics(\n",
    "val_li_score_metrics,\\\n",
    "val_pipeline=v_pipeline,\\\n",
    "val_params=v_params,\\\n",
    "val_cv=v_cv,\\\n",
    "val_X=v_X,\\\n",
    "val_y=v_y,\\\n",
    "val_X_test=v_X_test,\\\n",
    "val_y_test=v_y_test\n",
    ")"
   ]
  },
  {
   "cell_type": "code",
   "execution_count": 38,
   "metadata": {},
   "outputs": [
    {
     "name": "stdout",
     "output_type": "stream",
     "text": [
      "hi\n"
     ]
    }
   ],
   "source": [
    "print(\"hi\")"
   ]
  },
  {
   "cell_type": "code",
   "execution_count": 39,
   "metadata": {},
   "outputs": [],
   "source": [
    "#di_best_model_info_per_metric: dictionary, \n",
    "#key=id metric\n",
    "#value=[score, best model]\n",
    "\n",
    "di_best_model_info_per_metric=\\\n",
    "cc_fi_fcts.fct_creation_df_performance_classifiers_from_gridsearchcv(\\\n",
    "val_di=di_rep_gs_multiple_metrics)"
   ]
  },
  {
   "cell_type": "code",
   "execution_count": 40,
   "metadata": {},
   "outputs": [
    {
     "data": {
      "text/plain": [
       "{'accuracy': [0.9996115373409731, SVC(C=100, gamma=10.0)],\n",
       " 'f1': [0.9982743744607421, SVC(C=100, gamma=10.0)],\n",
       " 'precision': [1.0,\n",
       "  DecisionTreeClassifier(max_depth=2, min_impurity_decrease=0.01,\n",
       "                         min_samples_split=0.1, random_state=42)],\n",
       " 'recall': [1.0,\n",
       "  DecisionTreeClassifier(criterion='entropy', max_depth=5,\n",
       "                         min_impurity_decrease=0.01, min_samples_split=0.1,\n",
       "                         random_state=42)],\n",
       " 'roc_auc': [0.9999984904122307, SVC(C=100, gamma=10.0)]}"
      ]
     },
     "execution_count": 40,
     "metadata": {},
     "output_type": "execute_result"
    }
   ],
   "source": [
    "di_best_model_info_per_metric"
   ]
  },
  {
   "cell_type": "code",
   "execution_count": null,
   "metadata": {},
   "outputs": [],
   "source": []
  },
  {
   "cell_type": "code",
   "execution_count": 41,
   "metadata": {},
   "outputs": [],
   "source": [
    "#save the di_rep_gs_multiple_metrics in memory\n",
    "with open(val_name_fi_pickle_di_gs_obj_multiple_metrics, 'wb') as fp0:\n",
    "    pickle.dump(di_rep_gs_multiple_metrics,fp0)"
   ]
  },
  {
   "cell_type": "code",
   "execution_count": 42,
   "metadata": {},
   "outputs": [],
   "source": [
    "#save the di_best_model_info_per_metric in memory\n",
    "with open(val_name_fi_pickle_di_best_model_info_per_metric, 'wb') as fp:\n",
    "    pickle.dump(di_best_model_info_per_metric,fp)"
   ]
  },
  {
   "cell_type": "code",
   "execution_count": 43,
   "metadata": {},
   "outputs": [
    {
     "name": "stdout",
     "output_type": "stream",
     "text": [
      "hi\n"
     ]
    }
   ],
   "source": [
    "print(\"hi\")"
   ]
  },
  {
   "cell_type": "code",
   "execution_count": null,
   "metadata": {},
   "outputs": [],
   "source": []
  },
  {
   "cell_type": "code",
   "execution_count": 44,
   "metadata": {},
   "outputs": [
    {
     "data": {
      "text/html": [
       "<div>\n",
       "<style scoped>\n",
       "    .dataframe tbody tr th:only-of-type {\n",
       "        vertical-align: middle;\n",
       "    }\n",
       "\n",
       "    .dataframe tbody tr th {\n",
       "        vertical-align: top;\n",
       "    }\n",
       "\n",
       "    .dataframe thead th {\n",
       "        text-align: right;\n",
       "    }\n",
       "</style>\n",
       "<table border=\"1\" class=\"dataframe\">\n",
       "  <thead>\n",
       "    <tr style=\"text-align: right;\">\n",
       "      <th></th>\n",
       "      <th>Model</th>\n",
       "      <th>Train Time</th>\n",
       "      <th>Train Accuracy</th>\n",
       "      <th>Test Accuracy</th>\n",
       "    </tr>\n",
       "  </thead>\n",
       "  <tbody>\n",
       "    <tr>\n",
       "      <th>0</th>\n",
       "      <td>KNN</td>\n",
       "      <td>0.013</td>\n",
       "      <td>0.926386</td>\n",
       "      <td>0.904147</td>\n",
       "    </tr>\n",
       "    <tr>\n",
       "      <th>1</th>\n",
       "      <td>Log.Regression</td>\n",
       "      <td>0.066</td>\n",
       "      <td>0.909197</td>\n",
       "      <td>0.911916</td>\n",
       "    </tr>\n",
       "    <tr>\n",
       "      <th>2</th>\n",
       "      <td>Decision-Tree</td>\n",
       "      <td>0.089</td>\n",
       "      <td>1.000000</td>\n",
       "      <td>1.000000</td>\n",
       "    </tr>\n",
       "    <tr>\n",
       "      <th>3</th>\n",
       "      <td>SVM</td>\n",
       "      <td>8.006</td>\n",
       "      <td>0.921725</td>\n",
       "      <td>0.914538</td>\n",
       "    </tr>\n",
       "  </tbody>\n",
       "</table>\n",
       "</div>"
      ],
      "text/plain": [
       "            Model  Train Time  Train Accuracy  Test Accuracy\n",
       "0             KNN       0.013        0.926386       0.904147\n",
       "1  Log.Regression       0.066        0.909197       0.911916\n",
       "2   Decision-Tree       0.089        1.000000       1.000000\n",
       "3             SVM       8.006        0.921725       0.914538"
      ]
     },
     "execution_count": 44,
     "metadata": {},
     "output_type": "execute_result"
    }
   ],
   "source": [
    "#the dictionary with the results of the initiay createdl simple models\n",
    "dict_results_multiple_models=\\\n",
    "    {\n",
    "        'Model': ['KNN', 'Log.Regression', 'Decision-Tree',\"SVM\"], \n",
    "        'Train Time': [round(duration_knn_train,3),\\\n",
    "                       round(duration_log_reg_train,3),\\\n",
    "                       round(duration_dt_train,3),\\\n",
    "                       round(duration_svm_train,3)],\n",
    "        \"Train Accuracy\":[accuracy_knn_train,accuracy_log_reg_train,\\\n",
    "                         accuracy_dt_train,\\\n",
    "                         accuracy_svm_train],\n",
    "        \"Test Accuracy\":[accuracy_knn_test,accuracy_log_reg_test,\\\n",
    "                         accuracy_dt_test,\\\n",
    "                         accuracy_svm_test]\n",
    "    }\n",
    "\n",
    "#the dataframe with the results of the initial simple models\n",
    "#where no gridsearch was employed\n",
    "df_compare_clas = pd.DataFrame(dict_results_multiple_models)\n",
    "df_compare_clas"
   ]
  },
  {
   "cell_type": "code",
   "execution_count": null,
   "metadata": {},
   "outputs": [],
   "source": []
  },
  {
   "cell_type": "code",
   "execution_count": null,
   "metadata": {},
   "outputs": [],
   "source": []
  },
  {
   "cell_type": "code",
   "execution_count": null,
   "metadata": {},
   "outputs": [],
   "source": []
  }
 ],
 "metadata": {
  "kernelspec": {
   "display_name": "Python 3 (ipykernel)",
   "language": "python",
   "name": "python3"
  },
  "language_info": {
   "codemirror_mode": {
    "name": "ipython",
    "version": 3
   },
   "file_extension": ".py",
   "mimetype": "text/x-python",
   "name": "python",
   "nbconvert_exporter": "python",
   "pygments_lexer": "ipython3",
   "version": "3.11.4"
  },
  "widgets": {
   "application/vnd.jupyter.widget-state+json": {
    "state": {},
    "version_major": 2,
    "version_minor": 0
   }
  }
 },
 "nbformat": 4,
 "nbformat_minor": 4
}
