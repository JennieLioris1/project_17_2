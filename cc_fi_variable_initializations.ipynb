{
 "cells": [
  {
   "cell_type": "markdown",
   "id": "fce1acb7",
   "metadata": {},
   "source": [
    "### Objective\n",
    "### This file contains the initialization values of the employed variables by files\n",
    "### cc_fi_1_1.ipynb, cc_fi_1_2.ipynb"
   ]
  },
  {
   "cell_type": "code",
   "execution_count": null,
   "id": "b283333c",
   "metadata": {},
   "outputs": [],
   "source": []
  },
  {
   "cell_type": "code",
   "execution_count": 1,
   "id": "c0110f1f",
   "metadata": {},
   "outputs": [],
   "source": [
    "#the name of the dataframe to pickle after vectorization\n",
    "#this dataframe is ready to be exploited\n",
    "val_name_df_with_target_all_vectorized_for_pickle=\"df_with_target_all_vectorized.pkl\"\n",
    "\n",
    "\n"
   ]
  },
  {
   "cell_type": "code",
   "execution_count": 2,
   "id": "5b110d22",
   "metadata": {},
   "outputs": [],
   "source": [
    "#the name fo the dataframe with the numeric values only\n",
    "#that is the datframe for which the target is numeric and has the name y1\n",
    "val_name_numeric_dataframe_for_pickle=\"df_num.pkl\"\n",
    "\n",
    "#the name fo the daatframe with the numeric values only\n",
    "#that is the datframe fr which the target is numeric and has the name y1\n",
    "#whent eh datframe is vectorized with function fct_target_vectorization_obj_cols_df_1\n",
    "val_name_numeric_dataframe_for_pickle_1=\"df_num_1.pkl\""
   ]
  },
  {
   "cell_type": "code",
   "execution_count": 3,
   "id": "94bae989",
   "metadata": {},
   "outputs": [],
   "source": [
    "#the name of the file to pickle the dictionary with the results\n",
    "#for the best model per  metric\n",
    "val_name_fi_pickle_di_best_model_info_per_metric=\"di_best_model_info_per_metric.pkl\"\n",
    "\n",
    "#the name of the file to pickle the dictionary with the results\n",
    "#with he gridsearch object and best score per metric\n",
    "val_name_fi_pickle_di_gs_obj_multiple_metrics=\"di_rep_gs_multiple_metrics.pkl\"\n",
    "\n",
    "#the name of the file to pickle the dictionary with the results\n",
    "#for the best model per  metric for the dataframe vectorized \n",
    "#with the second vectorization method\n",
    "val_name_fi_pickle_di_best_model_info_per_metric_1=\\\n",
    "\"di_best_model_info_per_metric_1.pkl\"\n",
    "\n",
    "#the name of the file to pickle the dictionary with the results\n",
    "#with he gridsearch object and best score per metric\n",
    "#for the dataframe vectorized \n",
    "#with the second vectorization method\n",
    "val_name_fi_pickle_di_gs_obj_multiple_metrics_1=\\\n",
    "\"di_rep_gs_multiple_metrics_1.pkl\"\n"
   ]
  },
  {
   "cell_type": "code",
   "execution_count": 4,
   "id": "66fdb1ee",
   "metadata": {},
   "outputs": [],
   "source": [
    "#the colors to use for each feature in the \n",
    "#the figure with the subplots of each feature\n",
    "val_colors_for_feature_subplots=[\\\n",
    "\"blue\",\n",
    "\"orange\",\n",
    "\"green\",\n",
    "\"red\",\n",
    "\"purple\",\n",
    "\"brown\",\n",
    "\"pink\",\n",
    "\"gray\",\n",
    "\"olive\",\n",
    "\"cyan\",\n",
    "\"gold\",\n",
    "\"g\",\n",
    "\"y\",\n",
    "\"crimson\",\n",
    "\"limegreen\",\n",
    "\"c\",\n",
    "\"sienna\",\n",
    "\"m\",\n",
    "\"deepskyblue\",\n",
    "\"olivedrab\",\n",
    "\"fuchsia\"\n",
    "]"
   ]
  },
  {
   "cell_type": "code",
   "execution_count": 5,
   "id": "ae2ffd2a",
   "metadata": {},
   "outputs": [],
   "source": [
    "#the number of columns for  of the plot\n",
    "#with the subplots of the features of the dataframe\n",
    "v_cols_for_all_features_subplots=2"
   ]
  },
  {
   "cell_type": "code",
   "execution_count": null,
   "id": "6ebf769d",
   "metadata": {},
   "outputs": [],
   "source": []
  },
  {
   "cell_type": "code",
   "execution_count": null,
   "id": "91f73c1f",
   "metadata": {},
   "outputs": [],
   "source": []
  },
  {
   "cell_type": "code",
   "execution_count": null,
   "id": "ba7d448a",
   "metadata": {},
   "outputs": [],
   "source": []
  }
 ],
 "metadata": {
  "kernelspec": {
   "display_name": "Python 3 (ipykernel)",
   "language": "python",
   "name": "python3"
  },
  "language_info": {
   "codemirror_mode": {
    "name": "ipython",
    "version": 3
   },
   "file_extension": ".py",
   "mimetype": "text/x-python",
   "name": "python",
   "nbconvert_exporter": "python",
   "pygments_lexer": "ipython3",
   "version": "3.11.4"
  }
 },
 "nbformat": 4,
 "nbformat_minor": 5
}
